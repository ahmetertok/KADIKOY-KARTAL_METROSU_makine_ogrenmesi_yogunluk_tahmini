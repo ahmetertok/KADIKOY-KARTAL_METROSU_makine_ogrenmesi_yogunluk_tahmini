{
 "cells": [
  {
   "cell_type": "code",
   "execution_count": 1,
   "metadata": {},
   "outputs": [],
   "source": [
    "import pandas as pd\n",
    "import numpy as np\n",
    "from sklearn.model_selection import train_test_split"
   ]
  },
  {
   "cell_type": "code",
   "execution_count": 2,
   "metadata": {},
   "outputs": [],
   "source": [
    "raw_df = pd.read_csv(filepath_or_buffer='out.csv')"
   ]
  },
  {
   "cell_type": "code",
   "execution_count": 3,
   "metadata": {},
   "outputs": [
    {
     "data": {
      "text/html": [
       "<div>\n",
       "<style scoped>\n",
       "    .dataframe tbody tr th:only-of-type {\n",
       "        vertical-align: middle;\n",
       "    }\n",
       "\n",
       "    .dataframe tbody tr th {\n",
       "        vertical-align: top;\n",
       "    }\n",
       "\n",
       "    .dataframe thead th {\n",
       "        text-align: right;\n",
       "    }\n",
       "</style>\n",
       "<table border=\"1\" class=\"dataframe\">\n",
       "  <thead>\n",
       "    <tr style=\"text-align: right;\">\n",
       "      <th></th>\n",
       "      <th>fusedhour</th>\n",
       "      <th>toplam_yolcu</th>\n",
       "      <th>weekDay</th>\n",
       "      <th>temp</th>\n",
       "      <th>rain</th>\n",
       "      <th>rain,snow</th>\n",
       "      <th>snow</th>\n",
       "      <th>trafficIndex</th>\n",
       "    </tr>\n",
       "  </thead>\n",
       "  <tbody>\n",
       "    <tr>\n",
       "      <th>count</th>\n",
       "      <td>3974.000000</td>\n",
       "      <td>3974.000000</td>\n",
       "      <td>3974.000000</td>\n",
       "      <td>3974.000000</td>\n",
       "      <td>3974.000000</td>\n",
       "      <td>3974.000000</td>\n",
       "      <td>3974.000000</td>\n",
       "      <td>3974.00000</td>\n",
       "    </tr>\n",
       "    <tr>\n",
       "      <th>mean</th>\n",
       "      <td>13.215903</td>\n",
       "      <td>9306.409914</td>\n",
       "      <td>3.352542</td>\n",
       "      <td>13.494766</td>\n",
       "      <td>0.441621</td>\n",
       "      <td>0.090840</td>\n",
       "      <td>0.044288</td>\n",
       "      <td>56.59152</td>\n",
       "    </tr>\n",
       "    <tr>\n",
       "      <th>std</th>\n",
       "      <td>6.224485</td>\n",
       "      <td>5531.242928</td>\n",
       "      <td>2.182297</td>\n",
       "      <td>7.880922</td>\n",
       "      <td>0.496643</td>\n",
       "      <td>0.287418</td>\n",
       "      <td>0.205760</td>\n",
       "      <td>10.03569</td>\n",
       "    </tr>\n",
       "    <tr>\n",
       "      <th>min</th>\n",
       "      <td>0.000000</td>\n",
       "      <td>5.000000</td>\n",
       "      <td>0.000000</td>\n",
       "      <td>-1.900000</td>\n",
       "      <td>0.000000</td>\n",
       "      <td>0.000000</td>\n",
       "      <td>0.000000</td>\n",
       "      <td>5.40000</td>\n",
       "    </tr>\n",
       "    <tr>\n",
       "      <th>25%</th>\n",
       "      <td>9.000000</td>\n",
       "      <td>5292.000000</td>\n",
       "      <td>1.000000</td>\n",
       "      <td>6.500000</td>\n",
       "      <td>0.000000</td>\n",
       "      <td>0.000000</td>\n",
       "      <td>0.000000</td>\n",
       "      <td>50.22000</td>\n",
       "    </tr>\n",
       "    <tr>\n",
       "      <th>50%</th>\n",
       "      <td>13.000000</td>\n",
       "      <td>9166.000000</td>\n",
       "      <td>3.000000</td>\n",
       "      <td>13.000000</td>\n",
       "      <td>0.000000</td>\n",
       "      <td>0.000000</td>\n",
       "      <td>0.000000</td>\n",
       "      <td>56.70000</td>\n",
       "    </tr>\n",
       "    <tr>\n",
       "      <th>75%</th>\n",
       "      <td>19.000000</td>\n",
       "      <td>12784.500000</td>\n",
       "      <td>5.000000</td>\n",
       "      <td>21.700000</td>\n",
       "      <td>1.000000</td>\n",
       "      <td>0.000000</td>\n",
       "      <td>0.000000</td>\n",
       "      <td>61.56000</td>\n",
       "    </tr>\n",
       "    <tr>\n",
       "      <th>max</th>\n",
       "      <td>23.000000</td>\n",
       "      <td>22742.000000</td>\n",
       "      <td>7.000000</td>\n",
       "      <td>25.700000</td>\n",
       "      <td>1.000000</td>\n",
       "      <td>1.000000</td>\n",
       "      <td>1.000000</td>\n",
       "      <td>90.00000</td>\n",
       "    </tr>\n",
       "  </tbody>\n",
       "</table>\n",
       "</div>"
      ],
      "text/plain": [
       "         fusedhour  toplam_yolcu      weekDay         temp         rain  \\\n",
       "count  3974.000000   3974.000000  3974.000000  3974.000000  3974.000000   \n",
       "mean     13.215903   9306.409914     3.352542    13.494766     0.441621   \n",
       "std       6.224485   5531.242928     2.182297     7.880922     0.496643   \n",
       "min       0.000000      5.000000     0.000000    -1.900000     0.000000   \n",
       "25%       9.000000   5292.000000     1.000000     6.500000     0.000000   \n",
       "50%      13.000000   9166.000000     3.000000    13.000000     0.000000   \n",
       "75%      19.000000  12784.500000     5.000000    21.700000     1.000000   \n",
       "max      23.000000  22742.000000     7.000000    25.700000     1.000000   \n",
       "\n",
       "         rain,snow         snow  trafficIndex  \n",
       "count  3974.000000  3974.000000    3974.00000  \n",
       "mean      0.090840     0.044288      56.59152  \n",
       "std       0.287418     0.205760      10.03569  \n",
       "min       0.000000     0.000000       5.40000  \n",
       "25%       0.000000     0.000000      50.22000  \n",
       "50%       0.000000     0.000000      56.70000  \n",
       "75%       0.000000     0.000000      61.56000  \n",
       "max       1.000000     1.000000      90.00000  "
      ]
     },
     "execution_count": 3,
     "metadata": {},
     "output_type": "execute_result"
    }
   ],
   "source": [
    "raw_df.describe()"
   ]
  },
  {
   "cell_type": "code",
   "execution_count": 4,
   "metadata": {},
   "outputs": [
    {
     "data": {
      "text/html": [
       "<div>\n",
       "<style scoped>\n",
       "    .dataframe tbody tr th:only-of-type {\n",
       "        vertical-align: middle;\n",
       "    }\n",
       "\n",
       "    .dataframe tbody tr th {\n",
       "        vertical-align: top;\n",
       "    }\n",
       "\n",
       "    .dataframe thead th {\n",
       "        text-align: right;\n",
       "    }\n",
       "</style>\n",
       "<table border=\"1\" class=\"dataframe\">\n",
       "  <thead>\n",
       "    <tr style=\"text-align: right;\">\n",
       "      <th></th>\n",
       "      <th>fusedhour</th>\n",
       "      <th>toplam_yolcu</th>\n",
       "      <th>weekDay</th>\n",
       "      <th>datetime</th>\n",
       "      <th>temp</th>\n",
       "      <th>rain</th>\n",
       "      <th>rain,snow</th>\n",
       "      <th>snow</th>\n",
       "      <th>AVERAGE_SPEED</th>\n",
       "      <th>trafficIndex</th>\n",
       "    </tr>\n",
       "  </thead>\n",
       "  <tbody>\n",
       "    <tr>\n",
       "      <th>0</th>\n",
       "      <td>0</td>\n",
       "      <td>4132</td>\n",
       "      <td>7</td>\n",
       "      <td>2022-01-01 00:00:00</td>\n",
       "      <td>8.8</td>\n",
       "      <td>1</td>\n",
       "      <td>0</td>\n",
       "      <td>0</td>\n",
       "      <td>60,488715304</td>\n",
       "      <td>48.60</td>\n",
       "    </tr>\n",
       "    <tr>\n",
       "      <th>1</th>\n",
       "      <td>5</td>\n",
       "      <td>947</td>\n",
       "      <td>7</td>\n",
       "      <td>2022-01-01 05:00:00</td>\n",
       "      <td>8.8</td>\n",
       "      <td>1</td>\n",
       "      <td>0</td>\n",
       "      <td>0</td>\n",
       "      <td>66,633641685</td>\n",
       "      <td>43.20</td>\n",
       "    </tr>\n",
       "    <tr>\n",
       "      <th>2</th>\n",
       "      <td>6</td>\n",
       "      <td>1618</td>\n",
       "      <td>7</td>\n",
       "      <td>2022-01-01 06:00:00</td>\n",
       "      <td>8.8</td>\n",
       "      <td>1</td>\n",
       "      <td>0</td>\n",
       "      <td>0</td>\n",
       "      <td>65,387205492</td>\n",
       "      <td>45.00</td>\n",
       "    </tr>\n",
       "    <tr>\n",
       "      <th>3</th>\n",
       "      <td>7</td>\n",
       "      <td>2060</td>\n",
       "      <td>7</td>\n",
       "      <td>2022-01-01 07:00:00</td>\n",
       "      <td>8.8</td>\n",
       "      <td>1</td>\n",
       "      <td>0</td>\n",
       "      <td>0</td>\n",
       "      <td>64,62633182</td>\n",
       "      <td>46.80</td>\n",
       "    </tr>\n",
       "    <tr>\n",
       "      <th>4</th>\n",
       "      <td>8</td>\n",
       "      <td>2219</td>\n",
       "      <td>7</td>\n",
       "      <td>2022-01-01 08:00:00</td>\n",
       "      <td>8.8</td>\n",
       "      <td>1</td>\n",
       "      <td>0</td>\n",
       "      <td>0</td>\n",
       "      <td>63,081663319</td>\n",
       "      <td>48.60</td>\n",
       "    </tr>\n",
       "    <tr>\n",
       "      <th>...</th>\n",
       "      <td>...</td>\n",
       "      <td>...</td>\n",
       "      <td>...</td>\n",
       "      <td>...</td>\n",
       "      <td>...</td>\n",
       "      <td>...</td>\n",
       "      <td>...</td>\n",
       "      <td>...</td>\n",
       "      <td>...</td>\n",
       "      <td>...</td>\n",
       "    </tr>\n",
       "    <tr>\n",
       "      <th>3969</th>\n",
       "      <td>19</td>\n",
       "      <td>12332</td>\n",
       "      <td>5</td>\n",
       "      <td>2022-07-30 19:00:00</td>\n",
       "      <td>25.7</td>\n",
       "      <td>0</td>\n",
       "      <td>0</td>\n",
       "      <td>0</td>\n",
       "      <td>55,607900626</td>\n",
       "      <td>56.70</td>\n",
       "    </tr>\n",
       "    <tr>\n",
       "      <th>3970</th>\n",
       "      <td>20</td>\n",
       "      <td>9754</td>\n",
       "      <td>5</td>\n",
       "      <td>2022-07-30 20:00:00</td>\n",
       "      <td>25.7</td>\n",
       "      <td>0</td>\n",
       "      <td>0</td>\n",
       "      <td>0</td>\n",
       "      <td>56,044702403</td>\n",
       "      <td>55.08</td>\n",
       "    </tr>\n",
       "    <tr>\n",
       "      <th>3971</th>\n",
       "      <td>21</td>\n",
       "      <td>8403</td>\n",
       "      <td>5</td>\n",
       "      <td>2022-07-30 21:00:00</td>\n",
       "      <td>25.7</td>\n",
       "      <td>0</td>\n",
       "      <td>0</td>\n",
       "      <td>0</td>\n",
       "      <td>56,863874835</td>\n",
       "      <td>55.08</td>\n",
       "    </tr>\n",
       "    <tr>\n",
       "      <th>3972</th>\n",
       "      <td>22</td>\n",
       "      <td>7497</td>\n",
       "      <td>5</td>\n",
       "      <td>2022-07-30 22:00:00</td>\n",
       "      <td>25.7</td>\n",
       "      <td>0</td>\n",
       "      <td>0</td>\n",
       "      <td>0</td>\n",
       "      <td>56,75546824</td>\n",
       "      <td>55.08</td>\n",
       "    </tr>\n",
       "    <tr>\n",
       "      <th>3973</th>\n",
       "      <td>23</td>\n",
       "      <td>5005</td>\n",
       "      <td>5</td>\n",
       "      <td>2022-07-30 23:00:00</td>\n",
       "      <td>25.7</td>\n",
       "      <td>0</td>\n",
       "      <td>0</td>\n",
       "      <td>0</td>\n",
       "      <td>57,102345049</td>\n",
       "      <td>53.46</td>\n",
       "    </tr>\n",
       "  </tbody>\n",
       "</table>\n",
       "<p>3974 rows × 10 columns</p>\n",
       "</div>"
      ],
      "text/plain": [
       "      fusedhour  toplam_yolcu  weekDay             datetime  temp  rain  \\\n",
       "0             0          4132        7  2022-01-01 00:00:00   8.8     1   \n",
       "1             5           947        7  2022-01-01 05:00:00   8.8     1   \n",
       "2             6          1618        7  2022-01-01 06:00:00   8.8     1   \n",
       "3             7          2060        7  2022-01-01 07:00:00   8.8     1   \n",
       "4             8          2219        7  2022-01-01 08:00:00   8.8     1   \n",
       "...         ...           ...      ...                  ...   ...   ...   \n",
       "3969         19         12332        5  2022-07-30 19:00:00  25.7     0   \n",
       "3970         20          9754        5  2022-07-30 20:00:00  25.7     0   \n",
       "3971         21          8403        5  2022-07-30 21:00:00  25.7     0   \n",
       "3972         22          7497        5  2022-07-30 22:00:00  25.7     0   \n",
       "3973         23          5005        5  2022-07-30 23:00:00  25.7     0   \n",
       "\n",
       "      rain,snow  snow AVERAGE_SPEED  trafficIndex  \n",
       "0             0     0  60,488715304         48.60  \n",
       "1             0     0  66,633641685         43.20  \n",
       "2             0     0  65,387205492         45.00  \n",
       "3             0     0   64,62633182         46.80  \n",
       "4             0     0  63,081663319         48.60  \n",
       "...         ...   ...           ...           ...  \n",
       "3969          0     0  55,607900626         56.70  \n",
       "3970          0     0  56,044702403         55.08  \n",
       "3971          0     0  56,863874835         55.08  \n",
       "3972          0     0   56,75546824         55.08  \n",
       "3973          0     0  57,102345049         53.46  \n",
       "\n",
       "[3974 rows x 10 columns]"
      ]
     },
     "execution_count": 4,
     "metadata": {},
     "output_type": "execute_result"
    }
   ],
   "source": [
    "raw_df"
   ]
  },
  {
   "cell_type": "code",
   "execution_count": 41,
   "metadata": {},
   "outputs": [],
   "source": [
    "mylist=[]\n",
    "for x in range(len(raw_df)):\n",
    "  #print(int(raw_df.iloc[x]['AVERAGE_SPEED'].strip()[0:2]))\n",
    "  #raw_df['test']=np.where((90 - (90*( int(raw_df.iloc[x]['AVERAGE_SPEED'].strip()[0:2])-40)/50)<1), 1,\n",
    "  #np.where((1<= (90 - (90*( int(raw_df.iloc[x]['AVERAGE_SPEED'].strip()[0:2])-40)/50)) and (90 - (90*( int(raw_df.iloc[x]['AVERAGE_SPEED'].strip()[0:2])-40)/50))<50), (90 - (90*( int(raw_df.iloc[x]['AVERAGE_SPEED'].strip()[0:2])-40)/50)),\n",
    "  #np.where(( 50<= (90 - (90*( int(raw_df.iloc[x]['AVERAGE_SPEED'].strip()[0:2])-40)/50)) and   (90 - (90*( int(raw_df.iloc[x]['AVERAGE_SPEED'].strip()[0:2])-40)/50)) <100 ), (90 - (90*( int(raw_df.iloc[x]['AVERAGE_SPEED'].strip()[0:2])-40)/50)) *0.9,\n",
    "  #np.where((90 - (90*( int(raw_df.iloc[x]['AVERAGE_SPEED'].strip()[0:2])-40)/50))>=100 , 90,\n",
    "  #       0))))\n",
    "    if (90 - (90*( int(raw_df.iloc[x]['AVERAGE_SPEED'].strip()[0:2])-40)/50)<1):\n",
    "        raw_df.at[x,'test']=(1)\n",
    "    elif (1<= (90 - (90*( int(raw_df.iloc[x]['AVERAGE_SPEED'].strip()[0:2])-40)/50)) and (90 - (90*( int(raw_df.iloc[x]['AVERAGE_SPEED'].strip()[0:2])-40)/50))<50):\n",
    "        raw_df.at[x,'test']=((90 - (90*( int(raw_df.iloc[x]['AVERAGE_SPEED'].strip()[0:2])-40)/50)))\n",
    "    elif ( 50<= (90 - (90*( int(raw_df.iloc[x]['AVERAGE_SPEED'].strip()[0:2])-40)/50)) and   (90 - (90*( int(raw_df.iloc[x]['AVERAGE_SPEED'].strip()[0:2])-40)/50)) <100 ):  \n",
    "        raw_df.at[x,'test']=((90 - (90*( int(raw_df.iloc[x]['AVERAGE_SPEED'].strip()[0:2])-40)/50)) *0.9)\n",
    "    elif (90 - (90*( int(raw_df.iloc[x]['AVERAGE_SPEED'].strip()[0:2])-40)/50))>=100:\n",
    "        raw_df.at[x,'test']=(90)\n",
    "  #np.where((90 - (90*( int(raw_df.iloc[x]['AVERAGE_SPEED'].strip()[0:2])-40)/50)<1), 1,\n",
    "  #np.where((1<= (90 - (90*( int(raw_df.iloc[x]['AVERAGE_SPEED'].strip()[0:2])-40)/50)) and (90 - (90*( int(raw_df.iloc[x]['AVERAGE_SPEED'].strip()[0:2])-40)/50))<50), (90 - (90*( int(raw_df.iloc[x]['AVERAGE_SPEED'].strip()[0:2])-40)/50)),\n",
    "  #np.where(( 50<= (90 - (90*( int(raw_df.iloc[x]['AVERAGE_SPEED'].strip()[0:2])-40)/50)) and   (90 - (90*( int(raw_df.iloc[x]['AVERAGE_SPEED'].strip()[0:2])-40)/50)) <100 ), (90 - (90*( int(raw_df.iloc[x]['AVERAGE_SPEED'].strip()[0:2])-40)/50)) *0.9,\n",
    "  #np.where((90 - (90*( int(raw_df.iloc[x]['AVERAGE_SPEED'].strip()[0:2])-40)/50))>=100 , 90,\n",
    "  #       0)))))"
   ]
  },
  {
   "cell_type": "code",
   "execution_count": 5,
   "metadata": {},
   "outputs": [
    {
     "data": {
      "text/html": [
       "<div>\n",
       "<style scoped>\n",
       "    .dataframe tbody tr th:only-of-type {\n",
       "        vertical-align: middle;\n",
       "    }\n",
       "\n",
       "    .dataframe tbody tr th {\n",
       "        vertical-align: top;\n",
       "    }\n",
       "\n",
       "    .dataframe thead th {\n",
       "        text-align: right;\n",
       "    }\n",
       "</style>\n",
       "<table border=\"1\" class=\"dataframe\">\n",
       "  <thead>\n",
       "    <tr style=\"text-align: right;\">\n",
       "      <th></th>\n",
       "      <th>fusedhour</th>\n",
       "      <th>toplam_yolcu</th>\n",
       "      <th>weekDay</th>\n",
       "      <th>datetime</th>\n",
       "      <th>temp</th>\n",
       "      <th>rain</th>\n",
       "      <th>rain,snow</th>\n",
       "      <th>snow</th>\n",
       "      <th>AVERAGE_SPEED</th>\n",
       "      <th>trafficIndex</th>\n",
       "    </tr>\n",
       "  </thead>\n",
       "  <tbody>\n",
       "    <tr>\n",
       "      <th>0</th>\n",
       "      <td>0</td>\n",
       "      <td>4132</td>\n",
       "      <td>7</td>\n",
       "      <td>2022-01-01 00:00:00</td>\n",
       "      <td>8.8</td>\n",
       "      <td>1</td>\n",
       "      <td>0</td>\n",
       "      <td>0</td>\n",
       "      <td>60,488715304</td>\n",
       "      <td>48.60</td>\n",
       "    </tr>\n",
       "    <tr>\n",
       "      <th>1</th>\n",
       "      <td>5</td>\n",
       "      <td>947</td>\n",
       "      <td>7</td>\n",
       "      <td>2022-01-01 05:00:00</td>\n",
       "      <td>8.8</td>\n",
       "      <td>1</td>\n",
       "      <td>0</td>\n",
       "      <td>0</td>\n",
       "      <td>66,633641685</td>\n",
       "      <td>43.20</td>\n",
       "    </tr>\n",
       "    <tr>\n",
       "      <th>2</th>\n",
       "      <td>6</td>\n",
       "      <td>1618</td>\n",
       "      <td>7</td>\n",
       "      <td>2022-01-01 06:00:00</td>\n",
       "      <td>8.8</td>\n",
       "      <td>1</td>\n",
       "      <td>0</td>\n",
       "      <td>0</td>\n",
       "      <td>65,387205492</td>\n",
       "      <td>45.00</td>\n",
       "    </tr>\n",
       "    <tr>\n",
       "      <th>3</th>\n",
       "      <td>7</td>\n",
       "      <td>2060</td>\n",
       "      <td>7</td>\n",
       "      <td>2022-01-01 07:00:00</td>\n",
       "      <td>8.8</td>\n",
       "      <td>1</td>\n",
       "      <td>0</td>\n",
       "      <td>0</td>\n",
       "      <td>64,62633182</td>\n",
       "      <td>46.80</td>\n",
       "    </tr>\n",
       "    <tr>\n",
       "      <th>4</th>\n",
       "      <td>8</td>\n",
       "      <td>2219</td>\n",
       "      <td>7</td>\n",
       "      <td>2022-01-01 08:00:00</td>\n",
       "      <td>8.8</td>\n",
       "      <td>1</td>\n",
       "      <td>0</td>\n",
       "      <td>0</td>\n",
       "      <td>63,081663319</td>\n",
       "      <td>48.60</td>\n",
       "    </tr>\n",
       "    <tr>\n",
       "      <th>...</th>\n",
       "      <td>...</td>\n",
       "      <td>...</td>\n",
       "      <td>...</td>\n",
       "      <td>...</td>\n",
       "      <td>...</td>\n",
       "      <td>...</td>\n",
       "      <td>...</td>\n",
       "      <td>...</td>\n",
       "      <td>...</td>\n",
       "      <td>...</td>\n",
       "    </tr>\n",
       "    <tr>\n",
       "      <th>3969</th>\n",
       "      <td>19</td>\n",
       "      <td>12332</td>\n",
       "      <td>5</td>\n",
       "      <td>2022-07-30 19:00:00</td>\n",
       "      <td>25.7</td>\n",
       "      <td>0</td>\n",
       "      <td>0</td>\n",
       "      <td>0</td>\n",
       "      <td>55,607900626</td>\n",
       "      <td>56.70</td>\n",
       "    </tr>\n",
       "    <tr>\n",
       "      <th>3970</th>\n",
       "      <td>20</td>\n",
       "      <td>9754</td>\n",
       "      <td>5</td>\n",
       "      <td>2022-07-30 20:00:00</td>\n",
       "      <td>25.7</td>\n",
       "      <td>0</td>\n",
       "      <td>0</td>\n",
       "      <td>0</td>\n",
       "      <td>56,044702403</td>\n",
       "      <td>55.08</td>\n",
       "    </tr>\n",
       "    <tr>\n",
       "      <th>3971</th>\n",
       "      <td>21</td>\n",
       "      <td>8403</td>\n",
       "      <td>5</td>\n",
       "      <td>2022-07-30 21:00:00</td>\n",
       "      <td>25.7</td>\n",
       "      <td>0</td>\n",
       "      <td>0</td>\n",
       "      <td>0</td>\n",
       "      <td>56,863874835</td>\n",
       "      <td>55.08</td>\n",
       "    </tr>\n",
       "    <tr>\n",
       "      <th>3972</th>\n",
       "      <td>22</td>\n",
       "      <td>7497</td>\n",
       "      <td>5</td>\n",
       "      <td>2022-07-30 22:00:00</td>\n",
       "      <td>25.7</td>\n",
       "      <td>0</td>\n",
       "      <td>0</td>\n",
       "      <td>0</td>\n",
       "      <td>56,75546824</td>\n",
       "      <td>55.08</td>\n",
       "    </tr>\n",
       "    <tr>\n",
       "      <th>3973</th>\n",
       "      <td>23</td>\n",
       "      <td>5005</td>\n",
       "      <td>5</td>\n",
       "      <td>2022-07-30 23:00:00</td>\n",
       "      <td>25.7</td>\n",
       "      <td>0</td>\n",
       "      <td>0</td>\n",
       "      <td>0</td>\n",
       "      <td>57,102345049</td>\n",
       "      <td>53.46</td>\n",
       "    </tr>\n",
       "  </tbody>\n",
       "</table>\n",
       "<p>3974 rows × 10 columns</p>\n",
       "</div>"
      ],
      "text/plain": [
       "      fusedhour  toplam_yolcu  weekDay             datetime  temp  rain  \\\n",
       "0             0          4132        7  2022-01-01 00:00:00   8.8     1   \n",
       "1             5           947        7  2022-01-01 05:00:00   8.8     1   \n",
       "2             6          1618        7  2022-01-01 06:00:00   8.8     1   \n",
       "3             7          2060        7  2022-01-01 07:00:00   8.8     1   \n",
       "4             8          2219        7  2022-01-01 08:00:00   8.8     1   \n",
       "...         ...           ...      ...                  ...   ...   ...   \n",
       "3969         19         12332        5  2022-07-30 19:00:00  25.7     0   \n",
       "3970         20          9754        5  2022-07-30 20:00:00  25.7     0   \n",
       "3971         21          8403        5  2022-07-30 21:00:00  25.7     0   \n",
       "3972         22          7497        5  2022-07-30 22:00:00  25.7     0   \n",
       "3973         23          5005        5  2022-07-30 23:00:00  25.7     0   \n",
       "\n",
       "      rain,snow  snow AVERAGE_SPEED  trafficIndex  \n",
       "0             0     0  60,488715304         48.60  \n",
       "1             0     0  66,633641685         43.20  \n",
       "2             0     0  65,387205492         45.00  \n",
       "3             0     0   64,62633182         46.80  \n",
       "4             0     0  63,081663319         48.60  \n",
       "...         ...   ...           ...           ...  \n",
       "3969          0     0  55,607900626         56.70  \n",
       "3970          0     0  56,044702403         55.08  \n",
       "3971          0     0  56,863874835         55.08  \n",
       "3972          0     0   56,75546824         55.08  \n",
       "3973          0     0  57,102345049         53.46  \n",
       "\n",
       "[3974 rows x 10 columns]"
      ]
     },
     "execution_count": 5,
     "metadata": {},
     "output_type": "execute_result"
    }
   ],
   "source": [
    "raw_df"
   ]
  },
  {
   "cell_type": "code",
   "execution_count": 3,
   "metadata": {},
   "outputs": [],
   "source": [
    "raw_df['AVERAGE_SPEED']=raw_df['AVERAGE_SPEED'].str.strip()"
   ]
  },
  {
   "cell_type": "code",
   "execution_count": 4,
   "metadata": {},
   "outputs": [],
   "source": [
    "raw_df['AVERAGE_SPEED']=raw_df['AVERAGE_SPEED'].str[:2]"
   ]
  },
  {
   "cell_type": "code",
   "execution_count": 6,
   "metadata": {},
   "outputs": [
    {
     "data": {
      "text/plain": [
       "fusedhour          int64\n",
       "toplam_yolcu       int64\n",
       "weekDay            int64\n",
       "datetime          object\n",
       "temp             float64\n",
       "rain               int64\n",
       "rain,snow          int64\n",
       "snow               int64\n",
       "AVERAGE_SPEED     object\n",
       "trafficIndex     float64\n",
       "dtype: object"
      ]
     },
     "execution_count": 6,
     "metadata": {},
     "output_type": "execute_result"
    }
   ],
   "source": [
    "raw_df.dtypes"
   ]
  },
  {
   "cell_type": "code",
   "execution_count": 6,
   "metadata": {},
   "outputs": [],
   "source": [
    "#raw_df=raw_df[raw_df['fusedyear']==2022]"
   ]
  },
  {
   "cell_type": "code",
   "execution_count": 7,
   "metadata": {},
   "outputs": [],
   "source": [
    "#cols=[\"fusedyear\",\"fusedmonth\",\"fusedday\"]\n",
    "#raw_df['date'] = raw_df[cols].apply(lambda x: '-'.join(x.values.astype(str)), axis=\"columns\")"
   ]
  },
  {
   "cell_type": "code",
   "execution_count": 8,
   "metadata": {},
   "outputs": [],
   "source": [
    "#raw_df['weekDay']=pd.to_datetime(raw_df['date']).dt.dayofweek"
   ]
  },
  {
   "cell_type": "code",
   "execution_count": 7,
   "metadata": {},
   "outputs": [],
   "source": [
    "#del raw_df['fusedyear']\n",
    "#del raw_df['fusedmonth']\n",
    "#del raw_df['fusedday']\n",
    "del raw_df['datetime']\n",
    "del raw_df['AVERAGE_SPEED']\n",
    "#raw_df.drop(raw_df[raw_df['fusedhour']==1].index,axis=0,inplace=True)\n",
    "#raw_df.drop(raw_df[raw_df['fusedhour']==2].index,axis=0,inplace=True)\n",
    "#raw_df.drop(raw_df[raw_df['fusedhour']==3].index,axis=0,inplace=True)\n",
    "#raw_df.drop(raw_df[raw_df['fusedhour']==4].index,axis=0,inplace=True)"
   ]
  },
  {
   "cell_type": "code",
   "execution_count": 8,
   "metadata": {},
   "outputs": [],
   "source": [
    "raw_df['rain']=raw_df['rain'].astype('category')\n",
    "raw_df['rain,snow']=raw_df['rain,snow'].astype('category')\n",
    "raw_df['snow']=raw_df['snow'].astype('category')\n",
    "raw_df['trafficIndex']=pd.to_numeric(raw_df['trafficIndex'])"
   ]
  },
  {
   "cell_type": "code",
   "execution_count": 9,
   "metadata": {},
   "outputs": [
    {
     "data": {
      "text/html": [
       "<div>\n",
       "<style scoped>\n",
       "    .dataframe tbody tr th:only-of-type {\n",
       "        vertical-align: middle;\n",
       "    }\n",
       "\n",
       "    .dataframe tbody tr th {\n",
       "        vertical-align: top;\n",
       "    }\n",
       "\n",
       "    .dataframe thead th {\n",
       "        text-align: right;\n",
       "    }\n",
       "</style>\n",
       "<table border=\"1\" class=\"dataframe\">\n",
       "  <thead>\n",
       "    <tr style=\"text-align: right;\">\n",
       "      <th></th>\n",
       "      <th>fusedhour</th>\n",
       "      <th>toplam_yolcu</th>\n",
       "      <th>weekDay</th>\n",
       "      <th>temp</th>\n",
       "      <th>trafficIndex</th>\n",
       "    </tr>\n",
       "  </thead>\n",
       "  <tbody>\n",
       "    <tr>\n",
       "      <th>fusedhour</th>\n",
       "      <td>1.000000</td>\n",
       "      <td>0.258211</td>\n",
       "      <td>0.005235</td>\n",
       "      <td>-0.000792</td>\n",
       "      <td>0.275880</td>\n",
       "    </tr>\n",
       "    <tr>\n",
       "      <th>toplam_yolcu</th>\n",
       "      <td>0.258211</td>\n",
       "      <td>1.000000</td>\n",
       "      <td>-0.155750</td>\n",
       "      <td>0.059922</td>\n",
       "      <td>0.440562</td>\n",
       "    </tr>\n",
       "    <tr>\n",
       "      <th>weekDay</th>\n",
       "      <td>0.005235</td>\n",
       "      <td>-0.155750</td>\n",
       "      <td>1.000000</td>\n",
       "      <td>0.100948</td>\n",
       "      <td>-0.199296</td>\n",
       "    </tr>\n",
       "    <tr>\n",
       "      <th>temp</th>\n",
       "      <td>-0.000792</td>\n",
       "      <td>0.059922</td>\n",
       "      <td>0.100948</td>\n",
       "      <td>1.000000</td>\n",
       "      <td>-0.327283</td>\n",
       "    </tr>\n",
       "    <tr>\n",
       "      <th>trafficIndex</th>\n",
       "      <td>0.275880</td>\n",
       "      <td>0.440562</td>\n",
       "      <td>-0.199296</td>\n",
       "      <td>-0.327283</td>\n",
       "      <td>1.000000</td>\n",
       "    </tr>\n",
       "  </tbody>\n",
       "</table>\n",
       "</div>"
      ],
      "text/plain": [
       "              fusedhour  toplam_yolcu   weekDay      temp  trafficIndex\n",
       "fusedhour      1.000000      0.258211  0.005235 -0.000792      0.275880\n",
       "toplam_yolcu   0.258211      1.000000 -0.155750  0.059922      0.440562\n",
       "weekDay        0.005235     -0.155750  1.000000  0.100948     -0.199296\n",
       "temp          -0.000792      0.059922  0.100948  1.000000     -0.327283\n",
       "trafficIndex   0.275880      0.440562 -0.199296 -0.327283      1.000000"
      ]
     },
     "execution_count": 9,
     "metadata": {},
     "output_type": "execute_result"
    }
   ],
   "source": [
    "raw_df.corr()"
   ]
  },
  {
   "cell_type": "code",
   "execution_count": 10,
   "metadata": {},
   "outputs": [],
   "source": [
    "#raw_df.to_csv('/root/staj/utku.csv',index=False)"
   ]
  },
  {
   "cell_type": "code",
   "execution_count": 11,
   "metadata": {},
   "outputs": [],
   "source": [
    "train, test = train_test_split(raw_df, test_size=0.2)"
   ]
  },
  {
   "cell_type": "code",
   "execution_count": 12,
   "metadata": {},
   "outputs": [],
   "source": [
    "cols=[\"weekDay\",\"fusedhour\",\"temp\",\"rain\",\"rain,snow\",\"snow\",\"trafficIndex\"]\n",
    "train_X=train[cols]"
   ]
  },
  {
   "cell_type": "code",
   "execution_count": 13,
   "metadata": {},
   "outputs": [],
   "source": [
    "test_X=test[cols]"
   ]
  },
  {
   "cell_type": "code",
   "execution_count": 14,
   "metadata": {},
   "outputs": [],
   "source": [
    "train_y=train['toplam_yolcu']"
   ]
  },
  {
   "cell_type": "code",
   "execution_count": 15,
   "metadata": {},
   "outputs": [],
   "source": [
    "test_y=test['toplam_yolcu']"
   ]
  },
  {
   "cell_type": "code",
   "execution_count": 17,
   "metadata": {},
   "outputs": [
    {
     "data": {
      "text/plain": [
       "1708     7294\n",
       "2117     8582\n",
       "2324    17295\n",
       "971     17526\n",
       "3078    13846\n",
       "        ...  \n",
       "3900    16584\n",
       "1502      190\n",
       "1934    21990\n",
       "3310     8703\n",
       "770     21367\n",
       "Name: toplam_yolcu, Length: 3179, dtype: int64"
      ]
     },
     "execution_count": 17,
     "metadata": {},
     "output_type": "execute_result"
    }
   ],
   "source": [
    "train_y"
   ]
  },
  {
   "cell_type": "code",
   "execution_count": 18,
   "metadata": {},
   "outputs": [
    {
     "data": {
      "text/html": [
       "<div>\n",
       "<style scoped>\n",
       "    .dataframe tbody tr th:only-of-type {\n",
       "        vertical-align: middle;\n",
       "    }\n",
       "\n",
       "    .dataframe tbody tr th {\n",
       "        vertical-align: top;\n",
       "    }\n",
       "\n",
       "    .dataframe thead th {\n",
       "        text-align: right;\n",
       "    }\n",
       "</style>\n",
       "<table border=\"1\" class=\"dataframe\">\n",
       "  <thead>\n",
       "    <tr style=\"text-align: right;\">\n",
       "      <th></th>\n",
       "      <th>weekDay</th>\n",
       "      <th>fusedhour</th>\n",
       "      <th>temp</th>\n",
       "      <th>rain</th>\n",
       "      <th>rain,snow</th>\n",
       "      <th>snow</th>\n",
       "      <th>trafficIndex</th>\n",
       "    </tr>\n",
       "  </thead>\n",
       "  <tbody>\n",
       "    <tr>\n",
       "      <th>617</th>\n",
       "      <td>1</td>\n",
       "      <td>11</td>\n",
       "      <td>7.0</td>\n",
       "      <td>1</td>\n",
       "      <td>0</td>\n",
       "      <td>0</td>\n",
       "      <td>61.56</td>\n",
       "    </tr>\n",
       "    <tr>\n",
       "      <th>2881</th>\n",
       "      <td>4</td>\n",
       "      <td>21</td>\n",
       "      <td>21.7</td>\n",
       "      <td>0</td>\n",
       "      <td>0</td>\n",
       "      <td>0</td>\n",
       "      <td>59.94</td>\n",
       "    </tr>\n",
       "    <tr>\n",
       "      <th>134</th>\n",
       "      <td>4</td>\n",
       "      <td>23</td>\n",
       "      <td>10.4</td>\n",
       "      <td>1</td>\n",
       "      <td>0</td>\n",
       "      <td>0</td>\n",
       "      <td>50.22</td>\n",
       "    </tr>\n",
       "    <tr>\n",
       "      <th>3651</th>\n",
       "      <td>7</td>\n",
       "      <td>11</td>\n",
       "      <td>23.5</td>\n",
       "      <td>0</td>\n",
       "      <td>0</td>\n",
       "      <td>0</td>\n",
       "      <td>51.84</td>\n",
       "    </tr>\n",
       "    <tr>\n",
       "      <th>2323</th>\n",
       "      <td>7</td>\n",
       "      <td>12</td>\n",
       "      <td>11.7</td>\n",
       "      <td>1</td>\n",
       "      <td>0</td>\n",
       "      <td>0</td>\n",
       "      <td>51.84</td>\n",
       "    </tr>\n",
       "    <tr>\n",
       "      <th>...</th>\n",
       "      <td>...</td>\n",
       "      <td>...</td>\n",
       "      <td>...</td>\n",
       "      <td>...</td>\n",
       "      <td>...</td>\n",
       "      <td>...</td>\n",
       "      <td>...</td>\n",
       "    </tr>\n",
       "    <tr>\n",
       "      <th>848</th>\n",
       "      <td>6</td>\n",
       "      <td>9</td>\n",
       "      <td>6.8</td>\n",
       "      <td>1</td>\n",
       "      <td>0</td>\n",
       "      <td>0</td>\n",
       "      <td>48.60</td>\n",
       "    </tr>\n",
       "    <tr>\n",
       "      <th>840</th>\n",
       "      <td>5</td>\n",
       "      <td>21</td>\n",
       "      <td>7.2</td>\n",
       "      <td>1</td>\n",
       "      <td>0</td>\n",
       "      <td>0</td>\n",
       "      <td>56.70</td>\n",
       "    </tr>\n",
       "    <tr>\n",
       "      <th>927</th>\n",
       "      <td>3</td>\n",
       "      <td>11</td>\n",
       "      <td>9.4</td>\n",
       "      <td>0</td>\n",
       "      <td>0</td>\n",
       "      <td>0</td>\n",
       "      <td>59.94</td>\n",
       "    </tr>\n",
       "    <tr>\n",
       "      <th>1361</th>\n",
       "      <td>5</td>\n",
       "      <td>12</td>\n",
       "      <td>-1.9</td>\n",
       "      <td>0</td>\n",
       "      <td>0</td>\n",
       "      <td>1</td>\n",
       "      <td>61.56</td>\n",
       "    </tr>\n",
       "    <tr>\n",
       "      <th>1376</th>\n",
       "      <td>6</td>\n",
       "      <td>7</td>\n",
       "      <td>0.8</td>\n",
       "      <td>0</td>\n",
       "      <td>1</td>\n",
       "      <td>0</td>\n",
       "      <td>50.22</td>\n",
       "    </tr>\n",
       "  </tbody>\n",
       "</table>\n",
       "<p>795 rows × 7 columns</p>\n",
       "</div>"
      ],
      "text/plain": [
       "      weekDay  fusedhour  temp rain rain,snow snow  trafficIndex\n",
       "617         1         11   7.0    1         0    0         61.56\n",
       "2881        4         21  21.7    0         0    0         59.94\n",
       "134         4         23  10.4    1         0    0         50.22\n",
       "3651        7         11  23.5    0         0    0         51.84\n",
       "2323        7         12  11.7    1         0    0         51.84\n",
       "...       ...        ...   ...  ...       ...  ...           ...\n",
       "848         6          9   6.8    1         0    0         48.60\n",
       "840         5         21   7.2    1         0    0         56.70\n",
       "927         3         11   9.4    0         0    0         59.94\n",
       "1361        5         12  -1.9    0         0    1         61.56\n",
       "1376        6          7   0.8    0         1    0         50.22\n",
       "\n",
       "[795 rows x 7 columns]"
      ]
     },
     "execution_count": 18,
     "metadata": {},
     "output_type": "execute_result"
    }
   ],
   "source": [
    "test_X"
   ]
  },
  {
   "cell_type": "code",
   "execution_count": 19,
   "metadata": {},
   "outputs": [
    {
     "data": {
      "text/plain": [
       "617     10073\n",
       "2881     8790\n",
       "134      2680\n",
       "3651     5605\n",
       "2323    13650\n",
       "        ...  \n",
       "848      4122\n",
       "840      7219\n",
       "927      8799\n",
       "1361     7565\n",
       "1376     2343\n",
       "Name: toplam_yolcu, Length: 795, dtype: int64"
      ]
     },
     "execution_count": 19,
     "metadata": {},
     "output_type": "execute_result"
    }
   ],
   "source": [
    "test_y"
   ]
  },
  {
   "cell_type": "code",
   "execution_count": 20,
   "metadata": {},
   "outputs": [],
   "source": [
    "from sklearn.linear_model import LinearRegression"
   ]
  },
  {
   "cell_type": "code",
   "execution_count": 21,
   "metadata": {},
   "outputs": [],
   "source": [
    "reg = LinearRegression().fit(train_X,train_y)"
   ]
  },
  {
   "cell_type": "code",
   "execution_count": 22,
   "metadata": {},
   "outputs": [
    {
     "data": {
      "text/plain": [
       "0.24252942004061406"
      ]
     },
     "execution_count": 22,
     "metadata": {},
     "output_type": "execute_result"
    }
   ],
   "source": [
    "reg.score(test_X,test_y)"
   ]
  },
  {
   "cell_type": "code",
   "execution_count": null,
   "metadata": {},
   "outputs": [],
   "source": []
  },
  {
   "cell_type": "code",
   "execution_count": 23,
   "metadata": {},
   "outputs": [],
   "source": [
    "from sklearn import linear_model"
   ]
  },
  {
   "cell_type": "code",
   "execution_count": 24,
   "metadata": {},
   "outputs": [],
   "source": [
    "clf = linear_model.Lasso(alpha=0.1)"
   ]
  },
  {
   "cell_type": "code",
   "execution_count": 25,
   "metadata": {},
   "outputs": [
    {
     "data": {
      "text/plain": [
       "Lasso(alpha=0.1, copy_X=True, fit_intercept=True, max_iter=1000,\n",
       "      normalize=False, positive=False, precompute=False, random_state=None,\n",
       "      selection='cyclic', tol=0.0001, warm_start=False)"
      ]
     },
     "execution_count": 25,
     "metadata": {},
     "output_type": "execute_result"
    }
   ],
   "source": [
    "clf.fit(train_X,train_y)"
   ]
  },
  {
   "cell_type": "code",
   "execution_count": 26,
   "metadata": {},
   "outputs": [
    {
     "data": {
      "text/plain": [
       "0.24252952463946675"
      ]
     },
     "execution_count": 26,
     "metadata": {},
     "output_type": "execute_result"
    }
   ],
   "source": [
    "clf.score(test_X,test_y)"
   ]
  },
  {
   "cell_type": "code",
   "execution_count": null,
   "metadata": {},
   "outputs": [],
   "source": []
  },
  {
   "cell_type": "code",
   "execution_count": 27,
   "metadata": {},
   "outputs": [],
   "source": [
    "from sklearn.linear_model import Ridge"
   ]
  },
  {
   "cell_type": "code",
   "execution_count": 28,
   "metadata": {},
   "outputs": [],
   "source": [
    "clf2 = Ridge(alpha=0.1)"
   ]
  },
  {
   "cell_type": "code",
   "execution_count": 29,
   "metadata": {},
   "outputs": [
    {
     "data": {
      "text/plain": [
       "Ridge(alpha=0.1, copy_X=True, fit_intercept=True, max_iter=None,\n",
       "      normalize=False, random_state=None, solver='auto', tol=0.001)"
      ]
     },
     "execution_count": 29,
     "metadata": {},
     "output_type": "execute_result"
    }
   ],
   "source": [
    "clf2.fit(train_X,train_y)"
   ]
  },
  {
   "cell_type": "code",
   "execution_count": 30,
   "metadata": {},
   "outputs": [
    {
     "data": {
      "text/plain": [
       "0.24252848144648342"
      ]
     },
     "execution_count": 30,
     "metadata": {},
     "output_type": "execute_result"
    }
   ],
   "source": [
    "clf2.score(test_X,test_y)"
   ]
  },
  {
   "cell_type": "code",
   "execution_count": null,
   "metadata": {},
   "outputs": [],
   "source": []
  },
  {
   "cell_type": "code",
   "execution_count": 31,
   "metadata": {},
   "outputs": [],
   "source": [
    "from sklearn.linear_model import ElasticNet"
   ]
  },
  {
   "cell_type": "code",
   "execution_count": 32,
   "metadata": {},
   "outputs": [],
   "source": [
    "regr = ElasticNet(alpha=0.1)"
   ]
  },
  {
   "cell_type": "code",
   "execution_count": 33,
   "metadata": {},
   "outputs": [
    {
     "data": {
      "text/plain": [
       "ElasticNet(alpha=0.1, copy_X=True, fit_intercept=True, l1_ratio=0.5,\n",
       "           max_iter=1000, normalize=False, positive=False, precompute=False,\n",
       "           random_state=None, selection='cyclic', tol=0.0001, warm_start=False)"
      ]
     },
     "execution_count": 33,
     "metadata": {},
     "output_type": "execute_result"
    }
   ],
   "source": [
    "regr.fit(train_X,train_y)"
   ]
  },
  {
   "cell_type": "code",
   "execution_count": 34,
   "metadata": {},
   "outputs": [
    {
     "data": {
      "text/plain": [
       "0.2351243447511966"
      ]
     },
     "execution_count": 34,
     "metadata": {},
     "output_type": "execute_result"
    }
   ],
   "source": [
    "regr.score(test_X,test_y)"
   ]
  },
  {
   "cell_type": "code",
   "execution_count": null,
   "metadata": {},
   "outputs": [],
   "source": []
  },
  {
   "cell_type": "code",
   "execution_count": 35,
   "metadata": {},
   "outputs": [],
   "source": [
    "from sklearn.preprocessing import PolynomialFeatures\n",
    "from sklearn.pipeline import Pipeline"
   ]
  },
  {
   "cell_type": "code",
   "execution_count": 36,
   "metadata": {},
   "outputs": [],
   "source": [
    "model = Pipeline([('poly', PolynomialFeatures(degree=2)),\n",
    "                  ('linear', LinearRegression(fit_intercept=False))])"
   ]
  },
  {
   "cell_type": "code",
   "execution_count": 37,
   "metadata": {},
   "outputs": [
    {
     "data": {
      "text/plain": [
       "Pipeline(memory=None,\n",
       "         steps=[('poly',\n",
       "                 PolynomialFeatures(degree=2, include_bias=True,\n",
       "                                    interaction_only=False, order='C')),\n",
       "                ('linear',\n",
       "                 LinearRegression(copy_X=True, fit_intercept=False, n_jobs=None,\n",
       "                                  normalize=False))],\n",
       "         verbose=False)"
      ]
     },
     "execution_count": 37,
     "metadata": {},
     "output_type": "execute_result"
    }
   ],
   "source": [
    "model.fit(train_X,train_y)"
   ]
  },
  {
   "cell_type": "code",
   "execution_count": 38,
   "metadata": {},
   "outputs": [
    {
     "data": {
      "text/plain": [
       "0.47696812089662277"
      ]
     },
     "execution_count": 38,
     "metadata": {},
     "output_type": "execute_result"
    }
   ],
   "source": [
    "model.score(test_X,test_y)"
   ]
  },
  {
   "cell_type": "code",
   "execution_count": null,
   "metadata": {},
   "outputs": [],
   "source": []
  },
  {
   "cell_type": "code",
   "execution_count": null,
   "metadata": {},
   "outputs": [],
   "source": []
  },
  {
   "cell_type": "code",
   "execution_count": 39,
   "metadata": {},
   "outputs": [],
   "source": [
    "from sklearn.linear_model import RANSACRegressor"
   ]
  },
  {
   "cell_type": "code",
   "execution_count": 40,
   "metadata": {},
   "outputs": [],
   "source": [
    "ransac = RANSACRegressor(LinearRegression(),\n",
    "\t\tmax_trials=4, \t\t# Number of Iterations\n",
    "\t\tmin_samples=2, \t\t# Minimum size of the sample\n",
    "\t\tloss='absolute_loss', \t# Metrics for loss\n",
    "\t\tresidual_threshold=10 \t# Threshold\n",
    "\t\t)"
   ]
  },
  {
   "cell_type": "code",
   "execution_count": 41,
   "metadata": {},
   "outputs": [
    {
     "data": {
      "text/plain": [
       "RANSACRegressor(base_estimator=LinearRegression(copy_X=True, fit_intercept=True,\n",
       "                                                n_jobs=None, normalize=False),\n",
       "                is_data_valid=None, is_model_valid=None, loss='absolute_loss',\n",
       "                max_skips=inf, max_trials=4, min_samples=2, random_state=None,\n",
       "                residual_threshold=10, stop_n_inliers=inf,\n",
       "                stop_probability=0.99, stop_score=inf)"
      ]
     },
     "execution_count": 41,
     "metadata": {},
     "output_type": "execute_result"
    }
   ],
   "source": [
    "ransac.fit(train_X,train_y)"
   ]
  },
  {
   "cell_type": "code",
   "execution_count": 42,
   "metadata": {},
   "outputs": [
    {
     "data": {
      "text/plain": [
       "0.0003597293253538858"
      ]
     },
     "execution_count": 42,
     "metadata": {},
     "output_type": "execute_result"
    }
   ],
   "source": [
    "ransac.score(test_X,test_y)"
   ]
  },
  {
   "cell_type": "code",
   "execution_count": null,
   "metadata": {},
   "outputs": [],
   "source": []
  },
  {
   "cell_type": "code",
   "execution_count": 43,
   "metadata": {},
   "outputs": [],
   "source": [
    "from sklearn.ensemble import RandomForestRegressor"
   ]
  },
  {
   "cell_type": "code",
   "execution_count": 44,
   "metadata": {},
   "outputs": [],
   "source": [
    "forest=RandomForestRegressor(n_estimators=20,\n",
    "                             max_depth=20,\n",
    "                             criterion='mse',\n",
    "                            )"
   ]
  },
  {
   "cell_type": "code",
   "execution_count": 45,
   "metadata": {},
   "outputs": [
    {
     "data": {
      "text/plain": [
       "RandomForestRegressor(bootstrap=True, ccp_alpha=0.0, criterion='mse',\n",
       "                      max_depth=20, max_features='auto', max_leaf_nodes=None,\n",
       "                      max_samples=None, min_impurity_decrease=0.0,\n",
       "                      min_impurity_split=None, min_samples_leaf=1,\n",
       "                      min_samples_split=2, min_weight_fraction_leaf=0.0,\n",
       "                      n_estimators=20, n_jobs=None, oob_score=False,\n",
       "                      random_state=None, verbose=0, warm_start=False)"
      ]
     },
     "execution_count": 45,
     "metadata": {},
     "output_type": "execute_result"
    }
   ],
   "source": [
    "forest.fit(train_X,train_y)"
   ]
  },
  {
   "cell_type": "code",
   "execution_count": 46,
   "metadata": {},
   "outputs": [
    {
     "data": {
      "text/plain": [
       "0.9591163999497999"
      ]
     },
     "execution_count": 46,
     "metadata": {},
     "output_type": "execute_result"
    }
   ],
   "source": [
    "forest.score(test_X,test_y)"
   ]
  },
  {
   "cell_type": "code",
   "execution_count": 55,
   "metadata": {},
   "outputs": [],
   "source": [
    "# Saving the model\n",
    "import pickle\n",
    "filename = '/root/staj/model.sav'\n",
    "pickle.dump(forest, open(filename, 'wb'))"
   ]
  },
  {
   "cell_type": "code",
   "execution_count": 48,
   "metadata": {},
   "outputs": [],
   "source": [
    "from sklearn.preprocessing import StandardScaler"
   ]
  },
  {
   "cell_type": "code",
   "execution_count": 49,
   "metadata": {},
   "outputs": [],
   "source": [
    "pipe = Pipeline([\n",
    "    ('scaler', StandardScaler()), \n",
    "    ('poly', PolynomialFeatures(degree=2)),\n",
    "    ('forest', RandomForestRegressor(n_estimators=20,\n",
    "                             max_depth=20,\n",
    "                             criterion='mse',\n",
    "                            ))\n",
    "])"
   ]
  },
  {
   "cell_type": "code",
   "execution_count": 50,
   "metadata": {},
   "outputs": [
    {
     "data": {
      "text/plain": [
       "Pipeline(memory=None,\n",
       "         steps=[('scaler',\n",
       "                 StandardScaler(copy=True, with_mean=True, with_std=True)),\n",
       "                ('poly',\n",
       "                 PolynomialFeatures(degree=2, include_bias=True,\n",
       "                                    interaction_only=False, order='C')),\n",
       "                ('forest',\n",
       "                 RandomForestRegressor(bootstrap=True, ccp_alpha=0.0,\n",
       "                                       criterion='mse', max_depth=20,\n",
       "                                       max_features='auto', max_leaf_nodes=None,\n",
       "                                       max_samples=None,\n",
       "                                       min_impurity_decrease=0.0,\n",
       "                                       min_impurity_split=None,\n",
       "                                       min_samples_leaf=1, min_samples_split=2,\n",
       "                                       min_weight_fraction_leaf=0.0,\n",
       "                                       n_estimators=20, n_jobs=None,\n",
       "                                       oob_score=False, random_state=None,\n",
       "                                       verbose=0, warm_start=False))],\n",
       "         verbose=False)"
      ]
     },
     "execution_count": 50,
     "metadata": {},
     "output_type": "execute_result"
    }
   ],
   "source": [
    "pipe.fit(train_X,train_y)"
   ]
  },
  {
   "cell_type": "code",
   "execution_count": 51,
   "metadata": {},
   "outputs": [
    {
     "data": {
      "text/plain": [
       "0.951964779022456"
      ]
     },
     "execution_count": 51,
     "metadata": {},
     "output_type": "execute_result"
    }
   ],
   "source": [
    "pipe.score(test_X,test_y)"
   ]
  },
  {
   "cell_type": "code",
   "execution_count": null,
   "metadata": {},
   "outputs": [],
   "source": []
  },
  {
   "cell_type": "code",
   "execution_count": 52,
   "metadata": {},
   "outputs": [
    {
     "data": {
      "text/plain": [
       "SVR(C=1.0, cache_size=200, coef0=0.0, degree=3, epsilon=0.2, gamma='scale',\n",
       "    kernel='rbf', max_iter=-1, shrinking=True, tol=0.001, verbose=False)"
      ]
     },
     "execution_count": 52,
     "metadata": {},
     "output_type": "execute_result"
    }
   ],
   "source": [
    "from sklearn.svm import SVR\n",
    "\n",
    "# Choose regression method and set hyperparameter\n",
    "svr_rbf=SVR(C=1.0, epsilon=0.2, kernel='rbf')\n",
    "\n",
    "# Training of the regression model\n",
    "svr_rbf.fit(train_X,train_y)"
   ]
  },
  {
   "cell_type": "code",
   "execution_count": 53,
   "metadata": {},
   "outputs": [
    {
     "data": {
      "text/plain": [
       "0.012222414119538172"
      ]
     },
     "execution_count": 53,
     "metadata": {},
     "output_type": "execute_result"
    }
   ],
   "source": [
    "svr_rbf.score(test_X,test_y)"
   ]
  },
  {
   "cell_type": "code",
   "execution_count": null,
   "metadata": {},
   "outputs": [],
   "source": []
  }
 ],
 "metadata": {
  "instance_type": "ml.t3.medium",
  "kernelspec": {
   "display_name": "Python 3 (Data Science)",
   "language": "python",
   "name": "python3__SAGEMAKER_INTERNAL__arn:aws:sagemaker:eu-central-1:936697816551:image/datascience-1.0"
  },
  "language_info": {
   "codemirror_mode": {
    "name": "ipython",
    "version": 3
   },
   "file_extension": ".py",
   "mimetype": "text/x-python",
   "name": "python",
   "nbconvert_exporter": "python",
   "pygments_lexer": "ipython3",
   "version": "3.7.10"
  }
 },
 "nbformat": 4,
 "nbformat_minor": 4
}
